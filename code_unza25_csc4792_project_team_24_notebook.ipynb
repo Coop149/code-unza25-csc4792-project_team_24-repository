{
  "nbformat": 4,
  "nbformat_minor": 0,
  "metadata": {
    "colab": {
      "provenance": [],
      "include_colab_link": true
    },
    "kernelspec": {
      "name": "python3",
      "display_name": "Python 3"
    },
    "language_info": {
      "name": "python"
    }
  },
  "cells": [
    {
      "cell_type": "markdown",
      "metadata": {
        "id": "view-in-github",
        "colab_type": "text"
      },
      "source": [
        "<a href=\"https://colab.research.google.com/github/Coop149/code-unza25-csc4792-project_team_24-repository/blob/main/code_unza25_csc4792_project_team_24_notebook.ipynb\" target=\"_parent\"><img src=\"https://colab.research.google.com/assets/colab-badge.svg\" alt=\"Open In Colab\"/></a>"
      ]
    },
    {
      "cell_type": "code",
      "execution_count": null,
      "metadata": {
        "id": "OIkY97X1EYrp"
      },
      "outputs": [],
      "source": [
        "J"
      ]
    },
    {
      "cell_type": "markdown",
      "source": [],
      "metadata": {
        "id": "No8IOnz2i1_H"
      }
    },
    {
      "cell_type": "markdown",
      "source": [
        "## Initial Project Success Criteria\n",
        "\n",
        "### Accuracy Threshold -\n",
        "  \n",
        "*   The classification model should achieve at least 80% accuracy on the test dataset when categorizing articles into Zambia’s Vision 2030 sector categories\n",
        "\n",
        "###\tBalanced Performance –\n",
        "  \n",
        "\n",
        "* The model must maintain a minimum precision and recall of 75% across all sectors to ensure no single category is disproportionately misclassified.\n",
        "\n",
        "\n",
        "\n",
        " ### Coverage of All Sectors –\n",
        "  * The system should be able to classify articles into all major Vision 2030 sectors (e.g., Education, Health, Agriculture, etc.) without excluding any represented category.\n",
        "\n",
        "###\tSpeed of Classification –\n",
        " *  The model should return results in under 3 seconds for a single article query to support real-time search functionality.\n",
        "\n",
        "### Reduction of Manual Effort –\n",
        " *  Compared to manual sorting, the automated system should reduce classification time by at least 70%, making research retrieval faster and more consistent.\n",
        "\n",
        "### Usable Output –\n",
        " * The final system should produce a searchable, categorized dataset or dashboard for policymakers, researchers, and students, enabling instant filtering by Vision 2030 sector."
      ],
      "metadata": {
        "id": "lyLTCAyUkxdz"
      }
    }
  ]
}