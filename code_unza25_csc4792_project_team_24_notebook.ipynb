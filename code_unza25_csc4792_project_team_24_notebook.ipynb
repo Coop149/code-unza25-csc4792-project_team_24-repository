{
  "nbformat": 4,
  "nbformat_minor": 0,
  "metadata": {
    "colab": {
      "provenance": [],
      "include_colab_link": true
    },
    "kernelspec": {
      "name": "python3",
      "display_name": "Python 3"
    },
    "language_info": {
      "name": "python"
    }
  },
  "cells": [
    {
      "cell_type": "markdown",
      "metadata": {
        "id": "view-in-github",
        "colab_type": "text"
      },
      "source": [
        "<a href=\"https://colab.research.google.com/github/Coop149/code-unza25-csc4792-project_team_24-repository/blob/main/code_unza25_csc4792_project_team_24_notebook.ipynb\" target=\"_parent\"><img src=\"https://colab.research.google.com/assets/colab-badge.svg\" alt=\"Open In Colab\"/></a>"
      ]
    },
    {
      "cell_type": "code",
      "execution_count": null,
      "metadata": {
        "id": "OIkY97X1EYrp"
      },
      "outputs": [],
      "source": []
    },
    {
      "cell_type": "markdown",
      "source": [],
      "metadata": {
        "id": "0phQxosB4lZV"
      }
    },
    {
      "cell_type": "markdown",
      "source": [
        "# 1. Business Understanding\n",
        "\n",
        "## Problem Statement\n",
        "The University of Zambia publishes numerous scholarly articles across various disciplines, but there is no automated system to categorize these publications according to Zambia’s Vision 2030 sector classifications (e.g., Education, Health, Agriculture). This lack of classification makes it difficult for policymakers, researchers, and students to quickly identify research relevant to national development priorities. Manually sorting articles is time-consuming and prone to human error, limiting the accessibility and impact of academic research.\n"
      ],
      "metadata": {
        "id": "No8IOnz2i1_H"
      }
    },
    {
      "cell_type": "code",
      "source": [],
      "metadata": {
        "id": "jF_wB9H_qryU"
      },
      "execution_count": null,
      "outputs": []
    },
    {
      "cell_type": "markdown",
      "source": [],
      "metadata": {
        "id": "Ln8eS03Hquqz"
      }
    },
    {
      "cell_type": "markdown",
      "source": [
        "## **Business Objectives**\n",
        "\n",
        "1. **Develop an automated classification system**  \n",
        "   Accurately categorize scholarly articles from the University of Zambia into the official *Zambia’s Vision 2030* sector classifications  \n",
        "   *(e.g., Education, Health, Agriculture)*.\n",
        "\n",
        "2. **Improve accessibility of academic research**  \n",
        "   Enable policymakers, researchers, and students to quickly locate publications relevant to national development priorities.\n",
        "\n",
        "3. **Reduce manual workload & eliminate classification errors**  \n",
        "   Provide a consistent, data-driven categorization process to replace human classification.\n",
        "\n",
        "4. **Enhance the impact of academic research**  \n",
        "   Align publications with *Zambia’s Vision 2030* goals, making it easier for decision-makers to leverage research for evidence-based policy and planning.\n",
        "######**Practical Success**\n",
        "- A policymaker searches for **\"Education sector\"** in the system and instantly retrieves all University of Zambia publications related to that sector — without having to manually read and sort each article.\n",
        "\n",
        "- Any user can search for and retrieve articles by *Vision 2030* sector in seconds.  \n",
        "- The classification is consistent, accurate, and requires minimal manual intervention.\n"
      ],
      "metadata": {
        "id": "EUVBmyC6sBzk"
      }
    },
    {
      "cell_type": "markdown",
      "source": [
        "## **Data Mining Goals**\n",
        "\n",
        "1. **Build a text classification model**  \n",
        "   Automatically categorize scholarly articles from the University of Zambia into *Zambia’s Vision 2030* sector categories  \n",
        "   *(e.g., Education, Health, Agriculture)* based on article titles, abstracts, and keywords.\n",
        "\n",
        "2. **Preprocess and clean the text data**  \n",
        "   Remove stop words, apply stemming or lemmatization, and handle special characters to prepare it for machine learning algorithms.\n",
        "\n",
        "3. **Extract relevant features from the article text**  \n",
        "   Use Natural Language Processing (NLP) techniques such as **TF-IDF** (Term Frequency–Inverse Document Frequency) or word embeddings.\n",
        "\n",
        "4. **Train and evaluate classification algorithms**  \n",
        "   Experiment with models such as **Naïve Bayes**, **Support Vector Machines (SVM)**, or **Logistic Regression** to determine which provides the highest accuracy for this dataset.\n",
        "\n",
        "5. **Deploy the trained model**  \n",
        "   Integrate it into a searchable interface that allows users to retrieve articles by *Vision 2030* sector in a short period of time.\n",
        "\n"
      ],
      "metadata": {
        "id": "Qu2cJcu94ouy"
      }
    },
    {
      "cell_type": "markdown",
      "source": [
        "## Initial Project Success Criteria\n",
        "\n",
        "1. **Accuracy Threshold**\n",
        "\n",
        "   The classification model should achieve **at least 80% accuracy** on the test dataset when categorizing articles into *Zambia’s Vision 2030* sector categories.\n",
        "\n",
        "2. **Balanced Performance**\n",
        "\n",
        "   The model must maintain a **minimum precision and recall of 75%** across all sectors to ensure no single category is disproportionately misclassified.\n",
        "\n",
        "3. **Coverage of All Sectors**\n",
        "\n",
        "   The system should be able to classify articles into **all major Vision 2030 sectors** (e.g., Education, Health, Agriculture, etc.) without excluding any represented category.\n",
        "\n",
        "4. **Speed of Classification**\n",
        "\n",
        "   The model should return results in **a short period of time** for a single article query to support real-time search functionality.\n",
        "\n",
        "5. **Reduction of Manual Effort**\n",
        "\n",
        "   Compared to manual sorting, the automated system should **reduce classification time by at least 70%**, making research retrieval faster and more consistent.\n",
        "\n",
        "6. **Usable Output**\n",
        "\n",
        "   The final system should produce a **searchable, categorized dataset or dashboard** for policymakers, researchers, and students, enabling instant filtering by Vision 2030 sector.\n"
      ],
      "metadata": {
        "id": "5FmS0a1o7v-O"
      }
    }
  ]
}