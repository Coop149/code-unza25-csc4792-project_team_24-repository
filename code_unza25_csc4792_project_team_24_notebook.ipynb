{
  "nbformat": 4,
  "nbformat_minor": 0,
  "metadata": {
    "colab": {
      "provenance": [],
      "include_colab_link": true
    },
    "kernelspec": {
      "name": "python3",
      "display_name": "Python 3"
    },
    "language_info": {
      "name": "python"
    }
  },
  "cells": [
    {
      "cell_type": "markdown",
      "metadata": {
        "id": "view-in-github",
        "colab_type": "text"
      },
      "source": [
        "<a href=\"https://colab.research.google.com/github/Coop149/code-unza25-csc4792-project_team_24-repository/blob/main/code_unza25_csc4792_project_team_24_notebook.ipynb\" target=\"_parent\"><img src=\"https://colab.research.google.com/assets/colab-badge.svg\" alt=\"Open In Colab\"/></a>"
      ]
    },
    {
      "cell_type": "code",
      "execution_count": null,
      "metadata": {
        "id": "OIkY97X1EYrp"
      },
      "outputs": [],
      "source": []
    },
    {
      "cell_type": "markdown",
      "source": [
        "# 1. Business Understanding\n",
        "\n",
        "## Problem Statement\n",
        "The University of Zambia publishes numerous scholarly articles across various disciplines, but there is no automated system to categorize these publications according to Zambia’s Vision 2030 sector classifications (e.g., Education, Health, Agriculture). This lack of classification makes it difficult for policymakers, researchers, and students to quickly identify research relevant to national development priorities. Manually sorting articles is time-consuming and prone to human error, limiting the accessibility and impact of academic research.\n"
      ],
      "metadata": {
        "id": "No8IOnz2i1_H"
      }
    },
    {
      "cell_type": "code",
      "source": [],
      "metadata": {
        "id": "jF_wB9H_qryU"
      },
      "execution_count": null,
      "outputs": []
    },
    {
      "cell_type": "markdown",
      "source": [],
      "metadata": {
        "id": "Ln8eS03Hquqz"
      }
    },
    {
      "cell_type": "markdown",
      "source": [
        "## **Business Objectives**\n",
        "\n",
        "1. **Develop an automated classification system**  \n",
        "   Accurately categorize scholarly articles from the University of Zambia into the official *Zambia’s Vision 2030* sector classifications  \n",
        "   *(e.g., Education, Health, Agriculture)*.\n",
        "\n",
        "2. **Improve accessibility of academic research**  \n",
        "   Enable policymakers, researchers, and students to quickly locate publications relevant to national development priorities.\n",
        "\n",
        "3. **Reduce manual workload & eliminate classification errors**  \n",
        "   Provide a consistent, data-driven categorization process to replace human classification.\n",
        "\n",
        "4. **Enhance the impact of academic research**  \n",
        "   Align publications with *Zambia’s Vision 2030* goals, making it easier for decision-makers to leverage research for evidence-based policy and planning.\n",
        "######**Practical Success**\n",
        "- A policymaker searches for **\"Education sector\"** in the system and instantly retrieves all University of Zambia publications related to that sector — without having to manually read and sort each article.\n",
        "\n",
        "- Any user can search for and retrieve articles by *Vision 2030* sector in seconds.  \n",
        "- The classification is consistent, accurate, and requires minimal manual intervention.\n"
      ],
      "metadata": {
        "id": "EUVBmyC6sBzk"
      }
    }
  ]
}