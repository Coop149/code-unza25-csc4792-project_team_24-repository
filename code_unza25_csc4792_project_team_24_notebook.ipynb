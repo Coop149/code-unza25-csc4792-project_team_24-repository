{
  "nbformat": 4,
  "nbformat_minor": 0,
  "metadata": {
    "colab": {
      "provenance": [],
      "include_colab_link": true
    },
    "kernelspec": {
      "name": "python3",
      "display_name": "Python 3"
    },
    "language_info": {
      "name": "python"
    }
  },
  "cells": [
    {
      "cell_type": "markdown",
      "metadata": {
        "id": "view-in-github",
        "colab_type": "text"
      },
      "source": [
        "<a href=\"https://colab.research.google.com/github/Coop149/code-unza25-csc4792-project_team_24-repository/blob/main/code_unza25_csc4792_project_team_24_notebook.ipynb\" target=\"_parent\"><img src=\"https://colab.research.google.com/assets/colab-badge.svg\" alt=\"Open In Colab\"/></a>"
      ]
    },
    {
      "cell_type": "code",
      "execution_count": null,
      "metadata": {
        "id": "OIkY97X1EYrp"
      },
      "outputs": [],
      "source": [
        "J"
      ]
    },
    {
      "cell_type": "markdown",
      "source": [],
      "metadata": {
        "id": "No8IOnz2i1_H"
      }
    },
    {
      "cell_type": "markdown",
      "source": [
        "## 1. Business Understanding\n",
        "\n",
        "### Problem Statement\n",
        "The University of Zambia produces a large number of scholarly articles across different disciplines, but these publications are not categorized according to Zambia’s Vision 2030 sector classifications (e.g., Education, Health, Agriculture). This lack of sector-based organization makes it difficult for policymakers, researchers, and students to quickly find research aligned with national development priorities.\n"
      ],
      "metadata": {
        "id": "lyLTCAyUkxdz"
      }
    }
  ]
}